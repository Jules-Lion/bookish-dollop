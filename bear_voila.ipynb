from fastbook.vision.all import *
from fastai.vision.widgets import *

path = Path()
learn_inf = load_learner(path/'export.pkl')

# create the widgets for the upload button, the classify button, the output image placeholder and the output label 
btn_upload = widgets.FileUpload()
btn_run = widgets.Button(description='Classify')
out_pl = widgets.Output()
lbl_pred = widgets.Label()

#out_pl.clear_output()

# write the callback function that is executed when clicking on the Classify button
def on_click_classify(change):
    img = PILImage.create(btn_upload.data[-1])
    out_pl.clear_output()
    with out_pl: display(img.to_thumb(128,128))
    pred,pred_idx,probs = learn_inf.predict(img)
    lbl_pred.value = f'Prediction: {pred}; Probability: {probs[pred_idx]:.04f}'

btn_run.on_click(on_click_classify)

VBox([widgets.Label('Select your bear!'), 
      btn_upload, btn_run, out_pl, lbl_pred])

